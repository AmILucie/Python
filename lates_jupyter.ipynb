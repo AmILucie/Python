{
 "cells": [
  {
   "cell_type": "code",
   "execution_count": 1,
   "metadata": {},
   "outputs": [],
   "source": [
    "import pandas as pd\n",
    "import numpy as np"
   ]
  },
  {
   "cell_type": "code",
   "execution_count": 2,
   "metadata": {},
   "outputs": [
    {
     "name": "stderr",
     "output_type": "stream",
     "text": [
      "C:\\Users\\108093\\Anaconda3\\lib\\site-packages\\IPython\\core\\interactiveshell.py:3146: DtypeWarning: Columns (0,1,2,3,4,5) have mixed types.Specify dtype option on import or set low_memory=False.\n",
      "  has_raised = await self.run_ast_nodes(code_ast.body, cell_name,\n"
     ]
    }
   ],
   "source": [
    "data = pd.read_csv(\"Road_from_Rehandle_Pad.csv\")"
   ]
  },
  {
   "cell_type": "code",
   "execution_count": 3,
   "metadata": {},
   "outputs": [
    {
     "name": "stdout",
     "output_type": "stream",
     "text": [
      "      Time IN_Vgth_position  Torque ACM_Vgth_hb_vlv_drive_duty_cycle  \\\n",
      "0  Seconds                %      Nm                                %   \n",
      "1   0.0949              100  50.313                               30   \n",
      "2   0.0959              100  50.313                               30   \n",
      "3   0.0969              100  50.313                               30   \n",
      "4   0.0979              100  50.313                               30   \n",
      "\n",
      "  Engine_speed Act_pos  \n",
      "0          rpm       %  \n",
      "1       849.75  99.773  \n",
      "2       849.75  99.773  \n",
      "3       849.75  99.773  \n",
      "4       849.75  99.773  \n"
     ]
    }
   ],
   "source": [
    "print(data.head())"
   ]
  },
  {
   "cell_type": "code",
   "execution_count": 4,
   "metadata": {},
   "outputs": [],
   "source": [
    "data = data.iloc[1:-1]"
   ]
  },
  {
   "cell_type": "code",
   "execution_count": 5,
   "metadata": {},
   "outputs": [
    {
     "name": "stdout",
     "output_type": "stream",
     "text": [
      "Time            float64\n",
      "Torque          float64\n",
      "Engine_speed    float64\n",
      "Act_pos         float64\n",
      "dtype: object\n"
     ]
    }
   ],
   "source": [
    "data[['Time', 'Torque', 'Engine_speed', 'Act_pos']] = data[['Time', 'Torque', 'Engine_speed', 'Act_pos']].apply(pd.to_numeric)\n",
    "print(data[['Time', 'Torque', 'Engine_speed', 'Act_pos']].dtypes)"
   ]
  },
  {
   "cell_type": "code",
   "execution_count": 6,
   "metadata": {},
   "outputs": [
    {
     "name": "stdout",
     "output_type": "stream",
     "text": [
      "806.3229\n"
     ]
    }
   ],
   "source": [
    "test_time = data.Time.iloc[-1] #value of last time stamp \n",
    "print(test_time)"
   ]
  },
  {
   "cell_type": "code",
   "execution_count": 8,
   "metadata": {},
   "outputs": [
    {
     "name": "stdout",
     "output_type": "stream",
     "text": [
      "806229\n"
     ]
    }
   ],
   "source": [
    "a = len(data)\n",
    "print(a)"
   ]
  },
  {
   "cell_type": "code",
   "execution_count": null,
   "metadata": {},
   "outputs": [],
   "source": []
  }
 ],
 "metadata": {
  "kernelspec": {
   "display_name": "Python 3",
   "language": "python",
   "name": "python3"
  },
  "language_info": {
   "codemirror_mode": {
    "name": "ipython",
    "version": 3
   },
   "file_extension": ".py",
   "mimetype": "text/x-python",
   "name": "python",
   "nbconvert_exporter": "python",
   "pygments_lexer": "ipython3",
   "version": "3.8.5"
  }
 },
 "nbformat": 4,
 "nbformat_minor": 4
}
